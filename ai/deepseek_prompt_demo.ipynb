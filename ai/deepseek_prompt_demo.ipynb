{
 "cells": [
  {
   "cell_type": "markdown",
   "id": "cac6eee6",
   "metadata": {},
   "source": [
    "初始化环境：\n",
    "- 导包\n",
    "- 加载环境变量\n",
    "- 创建LLM对象"
   ]
  },
  {
   "cell_type": "code",
   "execution_count": null,
   "id": "95d3c627",
   "metadata": {},
   "outputs": [],
   "source": [
    "from dotenv import load_dotenv\n",
    "import os\n",
    "from DeepSeekLLM import DeepSeekLLM\n",
    "\n",
    "load_dotenv()\n",
    "llm = DeepSeekLLM(api_key=os.getenv(\"deepseek_api_key\"))"
   ]
  },
  {
   "cell_type": "markdown",
   "metadata": {},
   "source": [
    "测试llm是否初始化成功"
   ]
  },
  {
   "cell_type": "code",
   "execution_count": null,
   "id": "9068ba6d",
   "metadata": {},
   "outputs": [],
   "source": [
    "response = llm.invoke(\"你好！\")\n",
    "print(response)"
   ]
  },
  {
   "cell_type": "markdown",
   "id": "b28f6364",
   "metadata": {},
   "source": [
    "在 LangChain Chain 中使用"
   ]
  },
  {
   "cell_type": "code",
   "execution_count": 7,
   "id": "0912004f",
   "metadata": {},
   "outputs": [
    {
     "name": "stderr",
     "output_type": "stream",
     "text": [
      "<ipython-input-7-6172cb838d32>:8: LangChainDeprecationWarning: The class `LLMChain` was deprecated in LangChain 0.1.17 and will be removed in 1.0. Use :meth:`~RunnableSequence, e.g., `prompt | llm`` instead.\n",
      "  chain = LLMChain(llm=llm, prompt=prompt)\n"
     ]
    },
    {
     "name": "stdout",
     "output_type": "stream",
     "text": [
      "{'question': '你是谁？', 'text': '我是 **DeepSeek Chat**，由深度求索公司（DeepSeek）研发的智能AI助手！🤖✨  \\n\\n我可以帮你解答各种问题，比如学习、工作、编程、写作、生活小窍门等。无论是严肃的知识探讨，还是轻松的日常闲聊，我都会尽力提供有用的信息。  \\n\\n有什么我可以帮你的吗？😊'}\n"
     ]
    }
   ],
   "source": [
    "from langchain.chains import LLMChain\n",
    "from langchain.prompts import PromptTemplate\n",
    "\n",
    "prompt = PromptTemplate(\n",
    "    input_variables=[\"question\"],\n",
    "    template=\"回答以下问题：{question}\"\n",
    ")\n",
    "chain = LLMChain(llm=llm, prompt=prompt)\n",
    "print(chain.invoke(\"你是谁？\"))"
   ]
  }
 ],
 "metadata": {
  "kernelspec": {
   "display_name": "Python 3",
   "language": "python",
   "name": "python3"
  },
  "language_info": {
   "codemirror_mode": {
    "name": "ipython",
    "version": 3
   },
   "file_extension": ".py",
   "mimetype": "text/x-python",
   "name": "python",
   "nbconvert_exporter": "python",
   "pygments_lexer": "ipython3",
   "version": "3.9.2"
  }
 },
 "nbformat": 4,
 "nbformat_minor": 5
}
