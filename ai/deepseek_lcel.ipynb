{
 "cells": [
  {
   "cell_type": "markdown",
   "id": "cac6eee6",
   "metadata": {},
   "source": [
    "初始化环境：\n",
    "- 导包\n",
    "- 加载环境变量\n",
    "- 创建LLM对象"
   ]
  },
  {
   "cell_type": "code",
   "execution_count": 5,
   "id": "95d3c627",
   "metadata": {},
   "outputs": [],
   "source": [
    "from dotenv import load_dotenv\n",
    "import os\n",
    "from DeepSeekLLM import DeepSeekLLM\n",
    "\n",
    "load_dotenv()\n",
    "llm = DeepSeekLLM(api_key=os.getenv(\"deepseek_api_key\"))"
   ]
  },
  {
   "cell_type": "markdown",
   "metadata": {},
   "source": [
    "创建链：\n",
    "\n",
    "chain = prompt | model | output_parser\n",
    "\n",
    "说明：\n",
    "1. 我们将用户输入的主题作为 {\"topic\": \"ice cream\"} 传入。\n",
    "2. prompt 组件接受用户输入，然后使用主题构建提示，生成 PromptValue。\n",
    "3. model 组件接受生成的提示，并将其传递给 OpenAI LLM 模型进行评估。模型生成的输出是一个 ChatMessage 对象。\n",
    "4. 最后，output_parser 组件接受一个 ChatMessage，将其转换为 Python 字符串，并从 invoke 方法返回"
   ]
  },
  {
   "cell_type": "code",
   "execution_count": null,
   "id": "17e9e63d",
   "metadata": {},
   "outputs": [],
   "source": [
    "from langchain_core.output_parsers import StrOutputParser\n",
    "from langchain_core.prompts import ChatPromptTemplate\n",
    "from langchain_openai import ChatOpenAI\n",
    "\n",
    "prompt = ChatPromptTemplate.from_template(\"讲一个关于 {topic} 的笑话\")\n",
    "model = llm\n",
    "output_parser = StrOutputParser()\n",
    "# 创建链\n",
    "chain = prompt | model | output_parser\n",
    "\n",
    "chain.invoke({\"topic\": \"冰淇淋\"})"
   ]
  }
 ],
 "metadata": {
  "kernelspec": {
   "display_name": "Python 3",
   "language": "python",
   "name": "python3"
  },
  "language_info": {
   "codemirror_mode": {
    "name": "ipython",
    "version": 3
   },
   "file_extension": ".py",
   "mimetype": "text/x-python",
   "name": "python",
   "nbconvert_exporter": "python",
   "pygments_lexer": "ipython3",
   "version": "3.9.2"
  }
 },
 "nbformat": 4,
 "nbformat_minor": 5
}
